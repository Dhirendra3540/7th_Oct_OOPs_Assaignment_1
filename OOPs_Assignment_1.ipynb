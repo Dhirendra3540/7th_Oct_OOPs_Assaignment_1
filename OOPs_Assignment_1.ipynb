{
  "nbformat": 4,
  "nbformat_minor": 0,
  "metadata": {
    "colab": {
      "provenance": []
    },
    "kernelspec": {
      "name": "python3",
      "display_name": "Python 3"
    },
    "language_info": {
      "name": "python"
    }
  },
  "cells": [
    {
      "cell_type": "code",
      "execution_count": 5,
      "metadata": {
        "id": "peTCuWJzq0qr"
      },
      "outputs": [],
      "source": [
        "#Q1\n",
        "class BankAccount :\n",
        "\n",
        "  def __init__(self,Acc_number,holder_name,balance):\n",
        "    self.Acc_number=Acc_number\n",
        "    self.holder_name=holder_name\n",
        "    self.balance=balance\n",
        "\n",
        "  def deposit(self,amount):\n",
        "    self.balance+=amount\n",
        "    print('Total balance is',self.balance)\n",
        "\n",
        "  def withdraw(self,amount):\n",
        "    self.balance-=amount\n",
        "    print(\"Remaining balance is\", self.balance)\n"
      ]
    },
    {
      "cell_type": "code",
      "source": [
        "ravi=BankAccount(123456,'Ravi',50000)"
      ],
      "metadata": {
        "id": "ee4gyyk3sGR4"
      },
      "execution_count": 2,
      "outputs": []
    },
    {
      "cell_type": "code",
      "source": [
        "ravi.deposit(500)"
      ],
      "metadata": {
        "colab": {
          "base_uri": "https://localhost:8080/"
        },
        "id": "Naf708ABsUPe",
        "outputId": "2bff607e-b42f-4e41-b769-7bcc87c900aa"
      },
      "execution_count": 3,
      "outputs": [
        {
          "output_type": "stream",
          "name": "stdout",
          "text": [
            "Total balance is 50500\n"
          ]
        }
      ]
    },
    {
      "cell_type": "code",
      "source": [
        "ravi.withdraw(500)"
      ],
      "metadata": {
        "colab": {
          "base_uri": "https://localhost:8080/"
        },
        "id": "hU-HI_ZMsZVW",
        "outputId": "dd53fb95-f0f5-4adc-8351-d6696dcc831b"
      },
      "execution_count": 4,
      "outputs": [
        {
          "output_type": "stream",
          "name": "stdout",
          "text": [
            "Remaining balance is 50000\n"
          ]
        }
      ]
    },
    {
      "cell_type": "code",
      "source": [
        "#Q2\n",
        "\n",
        "class employee:\n",
        "  def __init__(self,emp_id,emp_name,emp_salary):\n",
        "    self.emp_id=emp_id\n",
        "    self.emp_name=emp_name\n",
        "    self.emp_salary=emp_salary\n",
        "\n",
        "  def emp_details(self):\n",
        "    print('employee details are: ',self.emp_id,self.emp_name,self.emp_salary)\n",
        "\n",
        "  def bonus_cal(self,bonus_per):\n",
        "\n",
        "    bonus=self.emp_salary*bonus_per/100\n",
        "    print('Bonus got',bonus)\n",
        "\n"
      ],
      "metadata": {
        "id": "FL1ZApgtscyE"
      },
      "execution_count": 6,
      "outputs": []
    },
    {
      "cell_type": "code",
      "source": [
        "ravi=employee(123,'Ravi',50000)"
      ],
      "metadata": {
        "id": "WABjHQnFuHuX"
      },
      "execution_count": 7,
      "outputs": []
    },
    {
      "cell_type": "code",
      "source": [
        "ravi.emp_details()"
      ],
      "metadata": {
        "colab": {
          "base_uri": "https://localhost:8080/"
        },
        "id": "iJZMXzR5uOnT",
        "outputId": "e5b90fef-6395-45bf-9a64-053081994f9c"
      },
      "execution_count": 8,
      "outputs": [
        {
          "output_type": "stream",
          "name": "stdout",
          "text": [
            "employee details are:  123 Ravi 50000\n"
          ]
        }
      ]
    },
    {
      "cell_type": "code",
      "source": [
        "ravi.bonus_cal(20)"
      ],
      "metadata": {
        "colab": {
          "base_uri": "https://localhost:8080/"
        },
        "id": "2fR2uQpLuRzQ",
        "outputId": "447f3bea-3ee5-44fe-8320-017c23e6330e"
      },
      "execution_count": 9,
      "outputs": [
        {
          "output_type": "stream",
          "name": "stdout",
          "text": [
            "Bonus got 10000.0\n"
          ]
        }
      ]
    },
    {
      "cell_type": "code",
      "source": [
        "#Q3\n",
        "\n",
        "class vehicle:\n",
        "  def __init__(self):\n",
        "    self.v_count=100\n",
        "\n",
        "  def rentVehicle(self,quantity):\n",
        "    self.v_count-=quantity\n",
        "    print('Available Vehicle for rent ',self.v_count)\n",
        "    return 'rented quantity of vehicle is '+ str(quantity)\n"
      ],
      "metadata": {
        "id": "PFB9zZJNuWRB"
      },
      "execution_count": 19,
      "outputs": []
    },
    {
      "cell_type": "code",
      "source": [
        "ravi=vehicle()"
      ],
      "metadata": {
        "id": "h8Lcysv2wPhS"
      },
      "execution_count": 20,
      "outputs": []
    },
    {
      "cell_type": "code",
      "source": [
        "ravi.rentVehicle(5)"
      ],
      "metadata": {
        "colab": {
          "base_uri": "https://localhost:8080/",
          "height": 53
        },
        "id": "K6GpIqpHwSSi",
        "outputId": "72f94b62-a07b-4f88-b097-ede18e92ecd4"
      },
      "execution_count": 21,
      "outputs": [
        {
          "output_type": "stream",
          "name": "stdout",
          "text": [
            "Available Vehicle for rent  95\n"
          ]
        },
        {
          "output_type": "execute_result",
          "data": {
            "text/plain": [
              "'rented quantity of vehicle is 5'"
            ],
            "application/vnd.google.colaboratory.intrinsic+json": {
              "type": "string"
            }
          },
          "metadata": {},
          "execution_count": 21
        }
      ]
    },
    {
      "cell_type": "code",
      "source": [
        "#Q4\n",
        "\n",
        "class books:\n",
        "\n",
        "  def __init__(self):\n",
        "    self.bookavl=100\n",
        "\n",
        "class library(books):\n",
        "\n",
        "  def addBooks(self,qty):\n",
        "    self.bookavl+=qty\n",
        "\n",
        "  def borrowBooks(self,qty):\n",
        "    self.bookavl-=qty\n",
        "\n",
        "  def avlBooks(self):\n",
        "    print('Books available ',self.bookavl)\n",
        "\n",
        "\n"
      ],
      "metadata": {
        "id": "gNp6VL0OwWCf"
      },
      "execution_count": 23,
      "outputs": []
    },
    {
      "cell_type": "code",
      "source": [
        "ravi=library()"
      ],
      "metadata": {
        "id": "jaCAy0wJzofE"
      },
      "execution_count": 24,
      "outputs": []
    },
    {
      "cell_type": "code",
      "source": [
        "ravi.avlBooks()"
      ],
      "metadata": {
        "colab": {
          "base_uri": "https://localhost:8080/"
        },
        "id": "iwJxbAU20Qts",
        "outputId": "e9ea26b8-4bb3-4fa8-c0a9-37a9be289f26"
      },
      "execution_count": 25,
      "outputs": [
        {
          "output_type": "stream",
          "name": "stdout",
          "text": [
            "Books available  100\n"
          ]
        }
      ]
    },
    {
      "cell_type": "code",
      "source": [
        "ravi.borrowBooks(5)"
      ],
      "metadata": {
        "id": "Cq6oR_Ax0T0l"
      },
      "execution_count": 26,
      "outputs": []
    },
    {
      "cell_type": "code",
      "source": [
        "ravi.avlBooks()"
      ],
      "metadata": {
        "colab": {
          "base_uri": "https://localhost:8080/"
        },
        "id": "gzIx0we10Xt1",
        "outputId": "85ffe266-bc2f-4287-cf4c-ab169d397cfb"
      },
      "execution_count": 27,
      "outputs": [
        {
          "output_type": "stream",
          "name": "stdout",
          "text": [
            "Books available  95\n"
          ]
        }
      ]
    },
    {
      "cell_type": "code",
      "source": [
        "#Q6\n",
        "\n",
        "class shape:\n",
        "\n",
        "  def __init__(self,length,width,height):\n",
        "    self.length=length\n",
        "    self.width=width\n",
        "    self.height=height\n",
        "\n",
        "  def calArea(self):\n",
        "    area=2*(self.length*self.width+self.length*self.height+self.width*self.height)\n",
        "\n",
        "    print('Area of shape is ', area)\n",
        "\n",
        "  def perimeter(self):\n",
        "    peri=4*(self.length+self.width+self.height)\n",
        "\n",
        "    print('Perimeter of shape is ',peri)"
      ],
      "metadata": {
        "id": "sl3MIpjj0bGU"
      },
      "execution_count": 1,
      "outputs": []
    },
    {
      "cell_type": "code",
      "source": [
        "x=shape(5,6,9)"
      ],
      "metadata": {
        "id": "JYbmFNI2227K"
      },
      "execution_count": 2,
      "outputs": []
    },
    {
      "cell_type": "code",
      "source": [
        "x.calArea()"
      ],
      "metadata": {
        "colab": {
          "base_uri": "https://localhost:8080/"
        },
        "id": "LGZwm08V2_1V",
        "outputId": "a21e4bad-9a8a-415e-eb99-691c120f02d8"
      },
      "execution_count": 3,
      "outputs": [
        {
          "output_type": "stream",
          "name": "stdout",
          "text": [
            "Area of shape is  258\n"
          ]
        }
      ]
    },
    {
      "cell_type": "code",
      "source": [
        "x.perimeter()"
      ],
      "metadata": {
        "colab": {
          "base_uri": "https://localhost:8080/"
        },
        "id": "spPa0EzD3COZ",
        "outputId": "6a760637-0a07-4ab5-bc75-9a7ed89815c5"
      },
      "execution_count": 4,
      "outputs": [
        {
          "output_type": "stream",
          "name": "stdout",
          "text": [
            "Perimeter of shape is  80\n"
          ]
        }
      ]
    },
    {
      "cell_type": "code",
      "source": [
        "#Q7\n",
        "class students:\n",
        "\n",
        "  def __init__(self,std_id,std_name,*grades):\n",
        "    self.std_id=std_id\n",
        "    self.std_name=std_name\n",
        "    self.grades=grades\n",
        "\n",
        "  def cal_avg_grades(self):\n",
        "    sum=0\n",
        "    n=0\n",
        "    for i in self.grades:\n",
        "      sum+=i\n",
        "      n+=1\n",
        "    avggrade=sum/n\n",
        "\n",
        "    return avggrade\n",
        "  def std_details(self):\n",
        "    print('student Id ', self.std_id)\n",
        "    print('Student Name ', self.std_name)\n",
        "    print('Average grade ', self.cal_avg_grades())\n",
        "\n",
        "\n",
        "\n"
      ],
      "metadata": {
        "id": "klXejpEd3HK2"
      },
      "execution_count": 9,
      "outputs": []
    },
    {
      "cell_type": "code",
      "source": [
        "ravi=students(456,'ravi',45,56,56,46,32,89)"
      ],
      "metadata": {
        "id": "-1RsgzOnm4aF"
      },
      "execution_count": 10,
      "outputs": []
    },
    {
      "cell_type": "code",
      "source": [
        "ravi.cal_avg_grades()"
      ],
      "metadata": {
        "colab": {
          "base_uri": "https://localhost:8080/"
        },
        "id": "CEqISiRRnIpc",
        "outputId": "418488be-1425-46a8-c3d8-c6c2d7ccb3d9"
      },
      "execution_count": 11,
      "outputs": [
        {
          "output_type": "execute_result",
          "data": {
            "text/plain": [
              "54.0"
            ]
          },
          "metadata": {},
          "execution_count": 11
        }
      ]
    },
    {
      "cell_type": "code",
      "source": [
        "ravi.std_details()"
      ],
      "metadata": {
        "colab": {
          "base_uri": "https://localhost:8080/"
        },
        "id": "iBfPSaRgnQ8v",
        "outputId": "561cde6a-f1f2-4de7-ef50-3b6a76d76e92"
      },
      "execution_count": 12,
      "outputs": [
        {
          "output_type": "stream",
          "name": "stdout",
          "text": [
            "student Id  456\n",
            "Student Name  ravi\n",
            "Average grade  54.0\n"
          ]
        }
      ]
    },
    {
      "cell_type": "code",
      "source": [
        "#Q8\n",
        "\n",
        "class emailManagement:\n",
        "\n",
        "  def __init__(self,sender,recipient,subject):\n",
        "    self.sender=sender\n",
        "    self.recipient=recipient\n",
        "    self.subject=subject\n",
        "\n",
        "  def send_email(self):\n",
        "\n",
        "    print('sender email ', self.sender)\n",
        "    print('recipient email ', self.recipient)\n",
        "    print('subject ', self.subject)\n",
        "\n",
        "  def email_details(self):\n",
        "    print('sender email ', self.sender)\n",
        "    print('recipient email ', self.recipient)\n",
        "\n"
      ],
      "metadata": {
        "id": "Dwprp7xFnVJS"
      },
      "execution_count": 13,
      "outputs": []
    },
    {
      "cell_type": "code",
      "source": [
        "ravi=emailManagement('xyz@yahoo.com','Pwskill@gmail.com','this is test massage')"
      ],
      "metadata": {
        "id": "CEfjeEDRoytd"
      },
      "execution_count": 14,
      "outputs": []
    },
    {
      "cell_type": "code",
      "source": [
        "ravi.send_email()"
      ],
      "metadata": {
        "colab": {
          "base_uri": "https://localhost:8080/"
        },
        "id": "hMMJiWMxpCQ1",
        "outputId": "95cfb863-1fe2-4cfb-e772-9659a219d029"
      },
      "execution_count": 15,
      "outputs": [
        {
          "output_type": "stream",
          "name": "stdout",
          "text": [
            "sender email  xyz@yahoo.com\n",
            "recipient email  Pwskill@gmail.com\n",
            "subject  this is test massage\n"
          ]
        }
      ]
    },
    {
      "cell_type": "code",
      "source": [
        "ravi.email_details()"
      ],
      "metadata": {
        "colab": {
          "base_uri": "https://localhost:8080/"
        },
        "id": "rix8f2uWpGyt",
        "outputId": "ef96254d-2723-4944-94d0-4adec82435b9"
      },
      "execution_count": 16,
      "outputs": [
        {
          "output_type": "stream",
          "name": "stdout",
          "text": [
            "sender email  xyz@yahoo.com\n",
            "recipient email  Pwskill@gmail.com\n"
          ]
        }
      ]
    },
    {
      "cell_type": "code",
      "source": [],
      "metadata": {
        "id": "ndoro0hSpNXB"
      },
      "execution_count": null,
      "outputs": []
    }
  ]
}